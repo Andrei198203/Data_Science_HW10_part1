{
  "cells": [
    {
      "cell_type": "markdown",
      "metadata": {
        "id": "view-in-github",
        "colab_type": "text"
      },
      "source": [
        "<a href=\"https://colab.research.google.com/github/Andrei198203/Data_Science_HW10_part1/blob/main/HW10_part1_Data_Science.ipynb\" target=\"_parent\"><img src=\"https://colab.research.google.com/assets/colab-badge.svg\" alt=\"Open In Colab\"/></a>"
      ]
    },
    {
      "cell_type": "code",
      "execution_count": 5,
      "metadata": {
        "id": "6sF018qr4eWj"
      },
      "outputs": [],
      "source": [
        "import numpy as np\n",
        "import tensorflow as tf\n",
        "from tensorflow.keras import layers, models\n",
        "from tensorflow.keras.datasets import fashion_mnist\n",
        "from tensorflow.keras.utils import to_categorical"
      ]
    },
    {
      "cell_type": "code",
      "execution_count": 27,
      "metadata": {
        "id": "hwNGX98Z4qDJ"
      },
      "outputs": [],
      "source": [
        "# Data download\n",
        "(train_images, train_labels), (test_images, test_labels) = fashion_mnist.load_data()"
      ]
    },
    {
      "cell_type": "code",
      "execution_count": 28,
      "metadata": {
        "id": "Pa7IFv4m4v_Z"
      },
      "outputs": [],
      "source": [
        "# Data conversion and normalisation\n",
        "train_images = train_images.reshape((60000, 28, 28, 1)).astype('float32') / 255\n",
        "test_images = test_images.reshape((10000, 28, 28, 1)).astype('float32') / 255\n",
        "\n",
        "train_labels = to_categorical(train_labels)\n",
        "test_labels = to_categorical(test_labels)"
      ]
    },
    {
      "cell_type": "code",
      "execution_count": 30,
      "metadata": {
        "id": "woq82-Pq43mZ"
      },
      "outputs": [],
      "source": [
        "# Model creation\n",
        "model = models.Sequential()\n",
        "model.add(layers.Conv2D(32, (3, 3), activation='relu', input_shape=(28, 28, 1)))\n",
        "model.add(layers.MaxPooling2D((2, 2)))\n",
        "model.add(layers.Conv2D(64, (3, 3), activation='relu'))\n",
        "model.add(layers.MaxPooling2D((2, 2)))\n",
        "model.add(layers.Conv2D(128, (3, 3), activation='relu'))  # Доданий згортковий шар з більшою кількістю фільтрів\n",
        "model.add(layers.Flatten())\n",
        "model.add(layers.Dense(128, activation='relu'))\n",
        "model.add(layers.Dense(10, activation='softmax'))\n",
        "\n"
      ]
    },
    {
      "cell_type": "code",
      "execution_count": 31,
      "metadata": {
        "id": "f7Bq0CoD5A9q"
      },
      "outputs": [],
      "source": [
        "# Model compilation\n",
        "model.compile(optimizer='adam',\n",
        "              loss='categorical_crossentropy',\n",
        "              metrics=['accuracy'])"
      ]
    },
    {
      "cell_type": "code",
      "source": [
        "print(\"Розміри зображень перед обробкою:\")\n",
        "print(\"Train images shape:\", train_images.shape)\n",
        "print(\"Test images shape:\", test_images.shape)\n",
        "\n",
        "print(\"\\nРозміри зображень після обробки:\")\n",
        "print(\"Train images resized shape:\", train_images_resized.shape)\n",
        "print(\"Test images resized shape:\", test_images_resized.shape)"
      ],
      "metadata": {
        "colab": {
          "base_uri": "https://localhost:8080/"
        },
        "id": "tdm__hvlRuqJ",
        "outputId": "f3a73194-6333-4680-8d5a-489c2edd5e01"
      },
      "execution_count": 20,
      "outputs": [
        {
          "output_type": "stream",
          "name": "stdout",
          "text": [
            "Розміри зображень перед обробкою:\n",
            "Train images shape: (60000, 28, 28, 1)\n",
            "Test images shape: (10000, 28, 28, 1)\n",
            "\n",
            "Розміри зображень після обробки:\n",
            "Train images resized shape: (60000, 48, 48, 3)\n",
            "Test images resized shape: (10000, 48, 48, 3)\n"
          ]
        }
      ]
    },
    {
      "cell_type": "code",
      "execution_count": 32,
      "metadata": {
        "colab": {
          "base_uri": "https://localhost:8080/"
        },
        "id": "RldEtnV75Cxj",
        "outputId": "4e90ba88-b214-47df-cda2-c9337381bf0b"
      },
      "outputs": [
        {
          "output_type": "stream",
          "name": "stdout",
          "text": [
            "Epoch 1/15\n",
            "750/750 [==============================] - 48s 63ms/step - loss: 0.5452 - accuracy: 0.7982 - val_loss: 0.3877 - val_accuracy: 0.8578\n",
            "Epoch 2/15\n",
            "750/750 [==============================] - 46s 61ms/step - loss: 0.3394 - accuracy: 0.8760 - val_loss: 0.3155 - val_accuracy: 0.8873\n",
            "Epoch 3/15\n",
            "750/750 [==============================] - 43s 58ms/step - loss: 0.2840 - accuracy: 0.8957 - val_loss: 0.2962 - val_accuracy: 0.8906\n",
            "Epoch 4/15\n",
            "750/750 [==============================] - 46s 62ms/step - loss: 0.2566 - accuracy: 0.9056 - val_loss: 0.2687 - val_accuracy: 0.9054\n",
            "Epoch 5/15\n",
            "750/750 [==============================] - 43s 58ms/step - loss: 0.2315 - accuracy: 0.9144 - val_loss: 0.2791 - val_accuracy: 0.8963\n",
            "Epoch 6/15\n",
            "750/750 [==============================] - 45s 60ms/step - loss: 0.2087 - accuracy: 0.9227 - val_loss: 0.2674 - val_accuracy: 0.9058\n",
            "Epoch 7/15\n",
            "750/750 [==============================] - 47s 62ms/step - loss: 0.1881 - accuracy: 0.9297 - val_loss: 0.2507 - val_accuracy: 0.9108\n",
            "Epoch 8/15\n",
            "750/750 [==============================] - 43s 57ms/step - loss: 0.1699 - accuracy: 0.9374 - val_loss: 0.2656 - val_accuracy: 0.9112\n",
            "Epoch 9/15\n",
            "750/750 [==============================] - 46s 61ms/step - loss: 0.1507 - accuracy: 0.9438 - val_loss: 0.2550 - val_accuracy: 0.9137\n",
            "Epoch 10/15\n",
            "750/750 [==============================] - 43s 57ms/step - loss: 0.1330 - accuracy: 0.9513 - val_loss: 0.2798 - val_accuracy: 0.9079\n",
            "Epoch 11/15\n",
            "750/750 [==============================] - 46s 61ms/step - loss: 0.1221 - accuracy: 0.9542 - val_loss: 0.2663 - val_accuracy: 0.9156\n",
            "Epoch 12/15\n",
            "750/750 [==============================] - 44s 59ms/step - loss: 0.1094 - accuracy: 0.9581 - val_loss: 0.2779 - val_accuracy: 0.9108\n",
            "Epoch 13/15\n",
            "750/750 [==============================] - 44s 58ms/step - loss: 0.0971 - accuracy: 0.9634 - val_loss: 0.3079 - val_accuracy: 0.9099\n",
            "Epoch 14/15\n",
            "750/750 [==============================] - 45s 60ms/step - loss: 0.0842 - accuracy: 0.9679 - val_loss: 0.3560 - val_accuracy: 0.9062\n",
            "Epoch 15/15\n",
            "750/750 [==============================] - 46s 61ms/step - loss: 0.0789 - accuracy: 0.9702 - val_loss: 0.3300 - val_accuracy: 0.9064\n"
          ]
        },
        {
          "output_type": "execute_result",
          "data": {
            "text/plain": [
              "<keras.src.callbacks.History at 0x7ec2d82c4ac0>"
            ]
          },
          "metadata": {},
          "execution_count": 32
        }
      ],
      "source": [
        "# Model training\n",
        "model.fit(train_images, train_labels, epochs=15, batch_size=64, validation_split=0.2)"
      ]
    },
    {
      "cell_type": "code",
      "execution_count": 33,
      "metadata": {
        "colab": {
          "base_uri": "https://localhost:8080/"
        },
        "id": "qKXNbGd46b_R",
        "outputId": "656828e3-a0a5-4adb-d574-6d221ca6aca9"
      },
      "outputs": [
        {
          "output_type": "stream",
          "name": "stdout",
          "text": [
            "313/313 [==============================] - 3s 9ms/step - loss: 0.3510 - accuracy: 0.9034\n",
            "Test accuracy: 0.9034000039100647\n"
          ]
        }
      ],
      "source": [
        "# Evaluating accuracy on test data\n",
        "test_loss, test_acc = model.evaluate(test_images, test_labels)\n",
        "print('Test accuracy:', test_acc)"
      ]
    },
    {
      "cell_type": "markdown",
      "metadata": {
        "id": "cigUYXqz6rdS"
      },
      "source": [
        "The accuracy od this model is higher than the previous one from homework 9."
      ]
    }
  ],
  "metadata": {
    "colab": {
      "provenance": [],
      "authorship_tag": "ABX9TyObwTFq38If9dlHQx9N2obv",
      "include_colab_link": true
    },
    "kernelspec": {
      "display_name": "Python 3",
      "name": "python3"
    },
    "language_info": {
      "name": "python"
    }
  },
  "nbformat": 4,
  "nbformat_minor": 0
}